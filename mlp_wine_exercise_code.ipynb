{
 "cells": [
  {
   "cell_type": "code",
   "execution_count": null,
   "metadata": {},
   "outputs": [],
   "source": [
    "# Dataset and DataLoader: define the function for the dataset\n",
    "class WineDataset(Dataset):\n",
    "    \n",
    "    def __init__(self, x, y):\n",
    "        self.x = torch.tensor(x, dtype=torch.float32)\n",
    "        self.y = torch.tensor(np.array(y).astype(np.float32), dtype=torch.float32)\n",
    "    \n",
    "    def __len__(self):\n",
    "        # Devolver el número de ejemplos en el conjunto de datos\n",
    "    \n",
    "    def __getitem__(self, idx):\n",
    "        # Devolver un ejemplo del dataset con la indice 'idx'"
   ]
  },
  {
   "cell_type": "code",
   "execution_count": null,
   "metadata": {},
   "outputs": [],
   "source": [
    "train_dataset = WineDataset(x_train, y_train)\n",
    "val_dataset = # Crear el dataset para los datos de validación\n",
    "test_dataset = # Crear el dataset para los datos de validación"
   ]
  },
  {
   "cell_type": "code",
   "execution_count": null,
   "metadata": {},
   "outputs": [],
   "source": [
    "batch_size = # Especificar este hiperparametro\n",
    "\n",
    "train_dataloader = DataLoader(train_dataset, batch_size=batch_size, shuffle=True) \n",
    "val_dataloader = # Crear el DataLoader para los datos de validación\n",
    "test_dataloader = # Crear el DataLoader para los datos de prueba"
   ]
  },
  {
   "cell_type": "code",
   "execution_count": null,
   "metadata": {},
   "outputs": [],
   "source": [
    "class WineQualityModel(nn.Module):\n",
    "    def __init__(self, input_shape): # input_shape es el número de variables que vamos a usar para la predicción\n",
    "        super(WineQualityModel, self).__init__()\n",
    "        # Añadir las capas del modelo\n",
    "\n",
    "    def forward(self, x):\n",
    "        # Añadir los pasos a seguir en el forward pass\n",
    "        return x"
   ]
  },
  {
   "cell_type": "code",
   "execution_count": null,
   "metadata": {},
   "outputs": [],
   "source": [
    "model = WineQualityModel(input_shape=x.shape[1])"
   ]
  },
  {
   "cell_type": "code",
   "execution_count": null,
   "metadata": {},
   "outputs": [],
   "source": [
    "learning_rate = # Especificar la tasa de aprendizaje\n",
    "epochs = # Especificar número de épocas\n",
    "\n",
    "optimizer = # Especificar el optimizador con la tasa de aprendizaje y parametros del modelo\n",
    "loss_fn = # Especificar la función de coste"
   ]
  },
  {
   "cell_type": "code",
   "execution_count": null,
   "metadata": {},
   "outputs": [],
   "source": [
    "def train(model, train_dataloader, optimizer, loss_fn):\n",
    "    model.train()\n",
    "    epoch_loss = 0\n",
    "    for i_batch, (x_train, y_train) in enumerate(train_dataloader):\n",
    "        \n",
    "        # Pon a cero los gradientes para cada batch\n",
    "\n",
    "        # Calcula la salida (predicciones) del modelo para los ejemplos del batch\n",
    "\n",
    "        batch_loss = # Calcula el coste (función de coste con los valores predichos y reales)\n",
    "\n",
    "        # Calcula los gradientes\n",
    "        \n",
    "        # Ajuste los pesos\n",
    "\n",
    "        epoch_loss += batch_loss.item()\n",
    "    \n",
    "    loss_train = epoch_loss / i_batch\n",
    "    \n",
    "    return loss_train"
   ]
  },
  {
   "cell_type": "code",
   "execution_count": null,
   "metadata": {},
   "outputs": [],
   "source": [
    "def evaluation(model, val_dataloader, loss_fn):\n",
    "    model.eval()\n",
    "    epoch_loss = 0\n",
    "    with torch.no_grad():\n",
    "\n",
    "        for i_batch, (x_val, y_val) in enumerate(val_dataloader):\n",
    "\n",
    "            # Calcula la salida (predicciones) del modelo para los ejemplos del batch\n",
    "\n",
    "            batch_loss = # Calcula el coste (función de coste con los valores reales y predichos)\n",
    "            \n",
    "            epoch_loss += batch_loss.item()\n",
    "    \n",
    "    loss_val = epoch_loss / i_batch\n",
    "    \n",
    "    return loss_val\n"
   ]
  },
  {
   "cell_type": "code",
   "execution_count": null,
   "metadata": {},
   "outputs": [],
   "source": [
    "def training_evaluation_loop(epochs, model, train_dataloader, val_dataloader, optimizer, loss_fn):\n",
    "    # Empty loss and accuracy lists to track values\n",
    "    start = time.time()\n",
    "\n",
    "    loss_values_train = []\n",
    "    loss_values_val = []\n",
    "\n",
    "    for epoch in range(epochs):\n",
    "\n",
    "        loss_train = # Llama la función para el entrenamiento \n",
    "        loss_values_train.append(loss_train)\n",
    "\n",
    "        loss_val = # Llama la función para la evaluación\n",
    "        loss_values_val.append(loss_val)\n",
    "\n",
    "        # Imprime cada 10 épocas loss_train y loss_val\n",
    "        \n",
    "    end = time.time()\n",
    "    total_time = end - start\n",
    "\n",
    "    print(f'Total training time: {total_time}')\n",
    "\n",
    "    return loss_values_train, loss_values_val"
   ]
  },
  {
   "cell_type": "code",
   "execution_count": null,
   "metadata": {},
   "outputs": [],
   "source": [
    "def predictions(model, test_dataloader):\n",
    "    predictions = []\n",
    "    real_values = []\n",
    "\n",
    "    model.eval()\n",
    "    with torch.no_grad():\n",
    "        for x_test, y_test in test_dataloader: \n",
    "\n",
    "            outputs = # Calula la salida (predicciones) del modelo para los ejemplos del batch\n",
    "\n",
    "            predictions.append(outputs.detach().cpu().numpy())\n",
    "            real_values.append(y_test.detach().cpu().numpy())\n",
    "\n",
    "    predictions = numpy.vstack(predictions)\n",
    "    real_values = numpy.hstack(real_values)\n",
    "    \n",
    "    # Calcula la métrica paa la regresión para ver el error entre los valores predichos y reales\n",
    "\n",
    "    # Imprima la métrica\n",
    "\n",
    "    return predictions, real_values"
   ]
  },
  {
   "cell_type": "code",
   "execution_count": null,
   "metadata": {},
   "outputs": [],
   "source": []
  }
 ],
 "metadata": {
  "kernelspec": {
   "display_name": "Python 3 (ipykernel)",
   "language": "python",
   "name": "python3"
  },
  "language_info": {
   "codemirror_mode": {
    "name": "ipython",
    "version": 3
   },
   "file_extension": ".py",
   "mimetype": "text/x-python",
   "name": "python",
   "nbconvert_exporter": "python",
   "pygments_lexer": "ipython3",
   "version": "3.11.5"
  }
 },
 "nbformat": 4,
 "nbformat_minor": 2
}
